{
 "cells": [
  {
   "cell_type": "code",
   "execution_count": 1,
   "metadata": {},
   "outputs": [],
   "source": [
    "import warnings\n",
    "import os\n",
    "import numpy as np\n",
    "import pandas as pd\n",
    "import datetime \n",
    "import seaborn as sns\n",
    "import matplotlib.pyplot as plt\n",
    "\n",
    "from sklearn.preprocessing import StandardScaler\n",
    "from sklearn.ensemble import RandomForestRegressor\n",
    "from sklearn.model_selection import train_test_split\n",
    "from sklearn.model_selection import RandomizedSearchCV\n",
    "from sklearn.model_selection import GridSearchCV"
   ]
  },
  {
   "cell_type": "code",
   "execution_count": 2,
   "metadata": {},
   "outputs": [
    {
     "ename": "UnicodeDecodeError",
     "evalue": "'utf-8' codec can't decode byte 0xe0 in position 4: invalid continuation byte",
     "output_type": "error",
     "traceback": [
      "\u001b[1;31m---------------------------------------------------------------------------\u001b[0m",
      "\u001b[1;31mUnicodeDecodeError\u001b[0m                        Traceback (most recent call last)",
      "Cell \u001b[1;32mIn[2], line 2\u001b[0m\n\u001b[0;32m      1\u001b[0m data_path \u001b[38;5;241m=\u001b[39m \u001b[38;5;124m\"\u001b[39m\u001b[38;5;124mVN_housing_dataset.csv\u001b[39m\u001b[38;5;124m\"\u001b[39m \n\u001b[1;32m----> 2\u001b[0m df \u001b[38;5;241m=\u001b[39m \u001b[43mpd\u001b[49m\u001b[38;5;241;43m.\u001b[39;49m\u001b[43mread_csv\u001b[49m\u001b[43m(\u001b[49m\u001b[43mdata_path\u001b[49m\u001b[43m)\u001b[49m\n\u001b[0;32m      3\u001b[0m df\u001b[38;5;241m.\u001b[39mhead()\n",
      "File \u001b[1;32m~\\AppData\\Local\\Packages\\PythonSoftwareFoundation.Python.3.11_qbz5n2kfra8p0\\LocalCache\\local-packages\\Python311\\site-packages\\pandas\\io\\parsers\\readers.py:948\u001b[0m, in \u001b[0;36mread_csv\u001b[1;34m(filepath_or_buffer, sep, delimiter, header, names, index_col, usecols, dtype, engine, converters, true_values, false_values, skipinitialspace, skiprows, skipfooter, nrows, na_values, keep_default_na, na_filter, verbose, skip_blank_lines, parse_dates, infer_datetime_format, keep_date_col, date_parser, date_format, dayfirst, cache_dates, iterator, chunksize, compression, thousands, decimal, lineterminator, quotechar, quoting, doublequote, escapechar, comment, encoding, encoding_errors, dialect, on_bad_lines, delim_whitespace, low_memory, memory_map, float_precision, storage_options, dtype_backend)\u001b[0m\n\u001b[0;32m    935\u001b[0m kwds_defaults \u001b[38;5;241m=\u001b[39m _refine_defaults_read(\n\u001b[0;32m    936\u001b[0m     dialect,\n\u001b[0;32m    937\u001b[0m     delimiter,\n\u001b[1;32m   (...)\u001b[0m\n\u001b[0;32m    944\u001b[0m     dtype_backend\u001b[38;5;241m=\u001b[39mdtype_backend,\n\u001b[0;32m    945\u001b[0m )\n\u001b[0;32m    946\u001b[0m kwds\u001b[38;5;241m.\u001b[39mupdate(kwds_defaults)\n\u001b[1;32m--> 948\u001b[0m \u001b[38;5;28;01mreturn\u001b[39;00m \u001b[43m_read\u001b[49m\u001b[43m(\u001b[49m\u001b[43mfilepath_or_buffer\u001b[49m\u001b[43m,\u001b[49m\u001b[43m \u001b[49m\u001b[43mkwds\u001b[49m\u001b[43m)\u001b[49m\n",
      "File \u001b[1;32m~\\AppData\\Local\\Packages\\PythonSoftwareFoundation.Python.3.11_qbz5n2kfra8p0\\LocalCache\\local-packages\\Python311\\site-packages\\pandas\\io\\parsers\\readers.py:611\u001b[0m, in \u001b[0;36m_read\u001b[1;34m(filepath_or_buffer, kwds)\u001b[0m\n\u001b[0;32m    608\u001b[0m _validate_names(kwds\u001b[38;5;241m.\u001b[39mget(\u001b[38;5;124m\"\u001b[39m\u001b[38;5;124mnames\u001b[39m\u001b[38;5;124m\"\u001b[39m, \u001b[38;5;28;01mNone\u001b[39;00m))\n\u001b[0;32m    610\u001b[0m \u001b[38;5;66;03m# Create the parser.\u001b[39;00m\n\u001b[1;32m--> 611\u001b[0m parser \u001b[38;5;241m=\u001b[39m \u001b[43mTextFileReader\u001b[49m\u001b[43m(\u001b[49m\u001b[43mfilepath_or_buffer\u001b[49m\u001b[43m,\u001b[49m\u001b[43m \u001b[49m\u001b[38;5;241;43m*\u001b[39;49m\u001b[38;5;241;43m*\u001b[39;49m\u001b[43mkwds\u001b[49m\u001b[43m)\u001b[49m\n\u001b[0;32m    613\u001b[0m \u001b[38;5;28;01mif\u001b[39;00m chunksize \u001b[38;5;129;01mor\u001b[39;00m iterator:\n\u001b[0;32m    614\u001b[0m     \u001b[38;5;28;01mreturn\u001b[39;00m parser\n",
      "File \u001b[1;32m~\\AppData\\Local\\Packages\\PythonSoftwareFoundation.Python.3.11_qbz5n2kfra8p0\\LocalCache\\local-packages\\Python311\\site-packages\\pandas\\io\\parsers\\readers.py:1448\u001b[0m, in \u001b[0;36mTextFileReader.__init__\u001b[1;34m(self, f, engine, **kwds)\u001b[0m\n\u001b[0;32m   1445\u001b[0m     \u001b[38;5;28mself\u001b[39m\u001b[38;5;241m.\u001b[39moptions[\u001b[38;5;124m\"\u001b[39m\u001b[38;5;124mhas_index_names\u001b[39m\u001b[38;5;124m\"\u001b[39m] \u001b[38;5;241m=\u001b[39m kwds[\u001b[38;5;124m\"\u001b[39m\u001b[38;5;124mhas_index_names\u001b[39m\u001b[38;5;124m\"\u001b[39m]\n\u001b[0;32m   1447\u001b[0m \u001b[38;5;28mself\u001b[39m\u001b[38;5;241m.\u001b[39mhandles: IOHandles \u001b[38;5;241m|\u001b[39m \u001b[38;5;28;01mNone\u001b[39;00m \u001b[38;5;241m=\u001b[39m \u001b[38;5;28;01mNone\u001b[39;00m\n\u001b[1;32m-> 1448\u001b[0m \u001b[38;5;28mself\u001b[39m\u001b[38;5;241m.\u001b[39m_engine \u001b[38;5;241m=\u001b[39m \u001b[38;5;28;43mself\u001b[39;49m\u001b[38;5;241;43m.\u001b[39;49m\u001b[43m_make_engine\u001b[49m\u001b[43m(\u001b[49m\u001b[43mf\u001b[49m\u001b[43m,\u001b[49m\u001b[43m \u001b[49m\u001b[38;5;28;43mself\u001b[39;49m\u001b[38;5;241;43m.\u001b[39;49m\u001b[43mengine\u001b[49m\u001b[43m)\u001b[49m\n",
      "File \u001b[1;32m~\\AppData\\Local\\Packages\\PythonSoftwareFoundation.Python.3.11_qbz5n2kfra8p0\\LocalCache\\local-packages\\Python311\\site-packages\\pandas\\io\\parsers\\readers.py:1723\u001b[0m, in \u001b[0;36mTextFileReader._make_engine\u001b[1;34m(self, f, engine)\u001b[0m\n\u001b[0;32m   1720\u001b[0m     \u001b[38;5;28;01mraise\u001b[39;00m \u001b[38;5;167;01mValueError\u001b[39;00m(msg)\n\u001b[0;32m   1722\u001b[0m \u001b[38;5;28;01mtry\u001b[39;00m:\n\u001b[1;32m-> 1723\u001b[0m     \u001b[38;5;28;01mreturn\u001b[39;00m \u001b[43mmapping\u001b[49m\u001b[43m[\u001b[49m\u001b[43mengine\u001b[49m\u001b[43m]\u001b[49m\u001b[43m(\u001b[49m\u001b[43mf\u001b[49m\u001b[43m,\u001b[49m\u001b[43m \u001b[49m\u001b[38;5;241;43m*\u001b[39;49m\u001b[38;5;241;43m*\u001b[39;49m\u001b[38;5;28;43mself\u001b[39;49m\u001b[38;5;241;43m.\u001b[39;49m\u001b[43moptions\u001b[49m\u001b[43m)\u001b[49m\n\u001b[0;32m   1724\u001b[0m \u001b[38;5;28;01mexcept\u001b[39;00m \u001b[38;5;167;01mException\u001b[39;00m:\n\u001b[0;32m   1725\u001b[0m     \u001b[38;5;28;01mif\u001b[39;00m \u001b[38;5;28mself\u001b[39m\u001b[38;5;241m.\u001b[39mhandles \u001b[38;5;129;01mis\u001b[39;00m \u001b[38;5;129;01mnot\u001b[39;00m \u001b[38;5;28;01mNone\u001b[39;00m:\n",
      "File \u001b[1;32m~\\AppData\\Local\\Packages\\PythonSoftwareFoundation.Python.3.11_qbz5n2kfra8p0\\LocalCache\\local-packages\\Python311\\site-packages\\pandas\\io\\parsers\\c_parser_wrapper.py:93\u001b[0m, in \u001b[0;36mCParserWrapper.__init__\u001b[1;34m(self, src, **kwds)\u001b[0m\n\u001b[0;32m     90\u001b[0m \u001b[38;5;28;01mif\u001b[39;00m kwds[\u001b[38;5;124m\"\u001b[39m\u001b[38;5;124mdtype_backend\u001b[39m\u001b[38;5;124m\"\u001b[39m] \u001b[38;5;241m==\u001b[39m \u001b[38;5;124m\"\u001b[39m\u001b[38;5;124mpyarrow\u001b[39m\u001b[38;5;124m\"\u001b[39m:\n\u001b[0;32m     91\u001b[0m     \u001b[38;5;66;03m# Fail here loudly instead of in cython after reading\u001b[39;00m\n\u001b[0;32m     92\u001b[0m     import_optional_dependency(\u001b[38;5;124m\"\u001b[39m\u001b[38;5;124mpyarrow\u001b[39m\u001b[38;5;124m\"\u001b[39m)\n\u001b[1;32m---> 93\u001b[0m \u001b[38;5;28mself\u001b[39m\u001b[38;5;241m.\u001b[39m_reader \u001b[38;5;241m=\u001b[39m \u001b[43mparsers\u001b[49m\u001b[38;5;241;43m.\u001b[39;49m\u001b[43mTextReader\u001b[49m\u001b[43m(\u001b[49m\u001b[43msrc\u001b[49m\u001b[43m,\u001b[49m\u001b[43m \u001b[49m\u001b[38;5;241;43m*\u001b[39;49m\u001b[38;5;241;43m*\u001b[39;49m\u001b[43mkwds\u001b[49m\u001b[43m)\u001b[49m\n\u001b[0;32m     95\u001b[0m \u001b[38;5;28mself\u001b[39m\u001b[38;5;241m.\u001b[39munnamed_cols \u001b[38;5;241m=\u001b[39m \u001b[38;5;28mself\u001b[39m\u001b[38;5;241m.\u001b[39m_reader\u001b[38;5;241m.\u001b[39munnamed_cols\n\u001b[0;32m     97\u001b[0m \u001b[38;5;66;03m# error: Cannot determine type of 'names'\u001b[39;00m\n",
      "File \u001b[1;32mparsers.pyx:579\u001b[0m, in \u001b[0;36mpandas._libs.parsers.TextReader.__cinit__\u001b[1;34m()\u001b[0m\n",
      "File \u001b[1;32mparsers.pyx:668\u001b[0m, in \u001b[0;36mpandas._libs.parsers.TextReader._get_header\u001b[1;34m()\u001b[0m\n",
      "File \u001b[1;32mparsers.pyx:879\u001b[0m, in \u001b[0;36mpandas._libs.parsers.TextReader._tokenize_rows\u001b[1;34m()\u001b[0m\n",
      "File \u001b[1;32mparsers.pyx:890\u001b[0m, in \u001b[0;36mpandas._libs.parsers.TextReader._check_tokenize_status\u001b[1;34m()\u001b[0m\n",
      "File \u001b[1;32mparsers.pyx:2050\u001b[0m, in \u001b[0;36mpandas._libs.parsers.raise_parser_error\u001b[1;34m()\u001b[0m\n",
      "\u001b[1;31mUnicodeDecodeError\u001b[0m: 'utf-8' codec can't decode byte 0xe0 in position 4: invalid continuation byte"
     ]
    }
   ],
   "source": [
    "data_path = \"VN_housing_dataset.csv\" \n",
    "df = pd.read_csv(data_path)\n",
    "df.head()"
   ]
  },
  {
   "cell_type": "code",
   "execution_count": 3,
   "metadata": {},
   "outputs": [
    {
     "ename": "NameError",
     "evalue": "name 'df' is not defined",
     "output_type": "error",
     "traceback": [
      "\u001b[1;31m---------------------------------------------------------------------------\u001b[0m",
      "\u001b[1;31mNameError\u001b[0m                                 Traceback (most recent call last)",
      "Cell \u001b[1;32mIn[3], line 1\u001b[0m\n\u001b[1;32m----> 1\u001b[0m \u001b[38;5;28mprint\u001b[39m(\u001b[38;5;124m\"\u001b[39m\u001b[38;5;124mThe initial length of the dataset is\u001b[39m\u001b[38;5;124m\"\u001b[39m, \u001b[38;5;28mstr\u001b[39m(\u001b[38;5;28mlen\u001b[39m(\u001b[43mdf\u001b[49m)), \u001b[38;5;124m\"\u001b[39m\u001b[38;5;124mrows.\u001b[39m\u001b[38;5;124m\"\u001b[39m)\n",
      "\u001b[1;31mNameError\u001b[0m: name 'df' is not defined"
     ]
    }
   ],
   "source": [
    "print(\"The initial length of the dataset is\", str(len(df)), \"rows.\")"
   ]
  },
  {
   "cell_type": "code",
   "execution_count": 6,
   "metadata": {},
   "outputs": [
    {
     "name": "stdout",
     "output_type": "stream",
     "text": [
      "<class 'pandas.core.frame.DataFrame'>\n",
      "RangeIndex: 82497 entries, 0 to 82496\n",
      "Data columns (total 13 columns):\n",
      " #   Column           Non-Null Count  Dtype  \n",
      "---  ------           --------------  -----  \n",
      " 0   Unnamed: 0       82496 non-null  float64\n",
      " 1   Ngày             82496 non-null  object \n",
      " 2   Địa chỉ          82449 non-null  object \n",
      " 3   Quận             82495 non-null  object \n",
      " 4   Huyện            82449 non-null  object \n",
      " 5   Loại hình nhà ở  82465 non-null  object \n",
      " 6   Giấy tờ pháp lý  53610 non-null  object \n",
      " 7   Số tầng          36399 non-null  object \n",
      " 8   Số phòng ngủ     82458 non-null  object \n",
      " 9   Diện tích        82495 non-null  object \n",
      " 10  Dài              19827 non-null  object \n",
      " 11  Rộng             35445 non-null  object \n",
      " 12  Giá/m2           82484 non-null  object \n",
      "dtypes: float64(1), object(12)\n",
      "memory usage: 8.2+ MB\n"
     ]
    }
   ],
   "source": [
    "df.info()"
   ]
  },
  {
   "cell_type": "code",
   "execution_count": 28,
   "metadata": {},
   "outputs": [
    {
     "name": "stdout",
     "output_type": "stream",
     "text": [
      "The length of the dataset after dropping null values is 11473 rows.\n"
     ]
    }
   ],
   "source": [
    "#đổi tên cột\n",
    "df_renamed = df.rename(columns = {\"Ngày\":\"date\", \"Địa chỉ\":\"address\", \"Quận\":\"district\",\n",
    "                                  \"Huyện\":\"ward\", \"Loại hình nhà ở\":\"type_of_housing\",\n",
    "                                 \"Giấy tờ pháp lý\":\"legal_paper\", \"Số tầng\":\"num_floors\",\n",
    "                                 \"Số phòng ngủ\":\"num_bed_rooms\", \"Diện tích\":\"squared_meter_area\",\n",
    "                                 \"Dài\":\"length_meter\", \"Rộng\":\"width_meter\", \"Giá/m2\":\"price_in_million_per_square_meter\"})\n",
    "#xóa cột k cần thiết\n",
    "df_renamed = df_renamed.drop(\"Unnamed: 0\", axis = 1)\n",
    "# loại bỏ các giá trị thiếu\n",
    "df_renamed = df_renamed.dropna()\n",
    "#đặt lại chỉ mục\n",
    "df_renamed = df_renamed.reset_index()\n",
    "\n",
    "#in độ dài của tập dữ liệu\n",
    "print(\"The length of the dataset after dropping null values is\", str(len(df_renamed)), \"rows.\")"
   ]
  },
  {
   "cell_type": "code",
   "execution_count": 29,
   "metadata": {},
   "outputs": [
    {
     "name": "stdout",
     "output_type": "stream",
     "text": [
      "The number of row after cleaning data: 11313\n"
     ]
    }
   ],
   "source": [
    "#Loại bỏ các dòng có số tầng là \"Nhiều hơn 10\" và số phòng ngủ không xác định:\n",
    "df_renamed = df_renamed[df_renamed['num_floors'] != 'Nhiều hơn 10']\n",
    "df_renamed = df_renamed[df_renamed['num_bed_rooms'] != 'nhiều hơn 10 phòng']\n",
    "\n",
    "# Chỉnh sửa và chuyển đổi kiểu dữ liệu của một số cột:\n",
    "df_renamed['district'] = df_renamed['district'].str.replace('Quận ','').str.strip()\n",
    "df_renamed['ward'] = df_renamed['ward'].str.replace('Phường ','').str.strip()\n",
    "df_renamed['num_floors'] = df_renamed['num_floors'].str.strip().astype(float)\n",
    "df_renamed['num_bed_rooms'] = df_renamed['num_bed_rooms'].str.replace(' phòng','').str.strip().astype(float)\n",
    "df_renamed['squared_meter_area'] = df_renamed['squared_meter_area'].str.replace(' m²','').str.strip().astype(float)\n",
    "df_renamed['length_meter'] = df_renamed['length_meter'].str.replace(' m','').str.strip().astype(float)\n",
    "df_renamed['width_meter'] = df_renamed['width_meter'].str.replace(' m','').str.strip().astype(float)\n",
    "\n",
    "# Chuyển đổi giá cả về đơn vị triệu/m²\n",
    "df_renamed.loc[df_renamed['price_in_million_per_square_meter'].str.contains(' tỷ/m²'), 'price_in_million_per_square_meter'] = df_renamed.loc[df_renamed['price_in_million_per_square_meter'].str.contains(' tỷ/m²'), 'price_in_million_per_square_meter'].str.replace(' tỷ/m²','').str.replace('.','').str.replace(',','.').astype(float) * 1000\n",
    "df_renamed.loc[df_renamed['price_in_million_per_square_meter'].str.contains(' triệu/m²', na=False), 'price_in_million_per_square_meter'] = df_renamed.loc[df_renamed['price_in_million_per_square_meter'].str.contains(' triệu/m²', na=False), 'price_in_million_per_square_meter'].str.replace(' triệu/m²','').str.replace(',','.').astype(float)\n",
    "df_renamed.loc[df_renamed['price_in_million_per_square_meter'].str.contains(' triệu/m²', na=False), 'price_in_million_per_square_meter'] = df_renamed.loc[df_renamed['price_in_million_per_square_meter'].str.contains(' triệu/m²', na=False), 'price_in_million_per_square_meter'].str.replace(' triệu/m²','').str.replace(',','.').astype(float)\n",
    "df_renamed.loc[df_renamed['price_in_million_per_square_meter'].str.contains(' đ/m²', na=False), 'price_in_million_per_square_meter'] = df_renamed.loc[df_renamed['price_in_million_per_square_meter'].str.contains(' đ/m²', na=False), 'price_in_million_per_square_meter'].str.replace(' đ/m²','').str.replace('.','').astype(float) * 0.000001\n",
    "print(\"The number of row after cleaning data:\",len(df_renamed))"
   ]
  },
  {
   "cell_type": "markdown",
   "metadata": {},
   "source": [
    "trực quan hóa dữ liệu"
   ]
  },
  {
   "cell_type": "code",
   "execution_count": 30,
   "metadata": {},
   "outputs": [
    {
     "data": {
      "text/html": [
       "<div>\n",
       "<style scoped>\n",
       "    .dataframe tbody tr th:only-of-type {\n",
       "        vertical-align: middle;\n",
       "    }\n",
       "\n",
       "    .dataframe tbody tr th {\n",
       "        vertical-align: top;\n",
       "    }\n",
       "\n",
       "    .dataframe thead th {\n",
       "        text-align: right;\n",
       "    }\n",
       "</style>\n",
       "<table border=\"1\" class=\"dataframe\">\n",
       "  <thead>\n",
       "    <tr style=\"text-align: right;\">\n",
       "      <th></th>\n",
       "      <th>num_floors</th>\n",
       "      <th>num_bed_rooms</th>\n",
       "      <th>squared_meter_area</th>\n",
       "      <th>length_meter</th>\n",
       "      <th>width_meter</th>\n",
       "      <th>price_in_million_per_square_meter</th>\n",
       "      <th>housing_type_Nhà biệt thự</th>\n",
       "      <th>housing_type_Nhà mặt phố, mặt tiền</th>\n",
       "      <th>housing_type_Nhà ngõ, hẻm</th>\n",
       "      <th>housing_type_Nhà phố liền kề</th>\n",
       "      <th>...</th>\n",
       "      <th>ward_Đại Mỗ</th>\n",
       "      <th>ward_Định Công</th>\n",
       "      <th>ward_Đống Mác</th>\n",
       "      <th>ward_Đồng Mai</th>\n",
       "      <th>ward_Đồng Nhân</th>\n",
       "      <th>ward_Đồng Tâm</th>\n",
       "      <th>ward_Đồng Xuân</th>\n",
       "      <th>ward_Đội Cấn</th>\n",
       "      <th>ward_Đức Giang</th>\n",
       "      <th>ward_Đức Thắng</th>\n",
       "    </tr>\n",
       "  </thead>\n",
       "  <tbody>\n",
       "    <tr>\n",
       "      <th>0</th>\n",
       "      <td>4.0</td>\n",
       "      <td>4.0</td>\n",
       "      <td>40.0</td>\n",
       "      <td>10.0</td>\n",
       "      <td>4.0</td>\n",
       "      <td>65.0</td>\n",
       "      <td>False</td>\n",
       "      <td>False</td>\n",
       "      <td>True</td>\n",
       "      <td>False</td>\n",
       "      <td>...</td>\n",
       "      <td>False</td>\n",
       "      <td>False</td>\n",
       "      <td>False</td>\n",
       "      <td>False</td>\n",
       "      <td>False</td>\n",
       "      <td>False</td>\n",
       "      <td>False</td>\n",
       "      <td>False</td>\n",
       "      <td>False</td>\n",
       "      <td>False</td>\n",
       "    </tr>\n",
       "    <tr>\n",
       "      <th>1</th>\n",
       "      <td>5.0</td>\n",
       "      <td>4.0</td>\n",
       "      <td>52.0</td>\n",
       "      <td>12.0</td>\n",
       "      <td>4.2</td>\n",
       "      <td>93.27</td>\n",
       "      <td>False</td>\n",
       "      <td>False</td>\n",
       "      <td>True</td>\n",
       "      <td>False</td>\n",
       "      <td>...</td>\n",
       "      <td>False</td>\n",
       "      <td>False</td>\n",
       "      <td>False</td>\n",
       "      <td>False</td>\n",
       "      <td>False</td>\n",
       "      <td>False</td>\n",
       "      <td>False</td>\n",
       "      <td>False</td>\n",
       "      <td>False</td>\n",
       "      <td>False</td>\n",
       "    </tr>\n",
       "    <tr>\n",
       "      <th>2</th>\n",
       "      <td>5.0</td>\n",
       "      <td>5.0</td>\n",
       "      <td>90.0</td>\n",
       "      <td>18.0</td>\n",
       "      <td>5.0</td>\n",
       "      <td>108.89</td>\n",
       "      <td>False</td>\n",
       "      <td>True</td>\n",
       "      <td>False</td>\n",
       "      <td>False</td>\n",
       "      <td>...</td>\n",
       "      <td>False</td>\n",
       "      <td>False</td>\n",
       "      <td>False</td>\n",
       "      <td>False</td>\n",
       "      <td>False</td>\n",
       "      <td>False</td>\n",
       "      <td>False</td>\n",
       "      <td>False</td>\n",
       "      <td>False</td>\n",
       "      <td>False</td>\n",
       "    </tr>\n",
       "    <tr>\n",
       "      <th>3</th>\n",
       "      <td>4.0</td>\n",
       "      <td>3.0</td>\n",
       "      <td>32.0</td>\n",
       "      <td>6.6</td>\n",
       "      <td>4.5</td>\n",
       "      <td>60.94</td>\n",
       "      <td>False</td>\n",
       "      <td>False</td>\n",
       "      <td>True</td>\n",
       "      <td>False</td>\n",
       "      <td>...</td>\n",
       "      <td>False</td>\n",
       "      <td>False</td>\n",
       "      <td>False</td>\n",
       "      <td>False</td>\n",
       "      <td>False</td>\n",
       "      <td>False</td>\n",
       "      <td>False</td>\n",
       "      <td>False</td>\n",
       "      <td>False</td>\n",
       "      <td>False</td>\n",
       "    </tr>\n",
       "    <tr>\n",
       "      <th>4</th>\n",
       "      <td>3.0</td>\n",
       "      <td>2.0</td>\n",
       "      <td>42.0</td>\n",
       "      <td>11.0</td>\n",
       "      <td>4.0</td>\n",
       "      <td>29.76</td>\n",
       "      <td>False</td>\n",
       "      <td>False</td>\n",
       "      <td>True</td>\n",
       "      <td>False</td>\n",
       "      <td>...</td>\n",
       "      <td>False</td>\n",
       "      <td>False</td>\n",
       "      <td>False</td>\n",
       "      <td>False</td>\n",
       "      <td>False</td>\n",
       "      <td>False</td>\n",
       "      <td>False</td>\n",
       "      <td>False</td>\n",
       "      <td>False</td>\n",
       "      <td>False</td>\n",
       "    </tr>\n",
       "  </tbody>\n",
       "</table>\n",
       "<p>5 rows × 281 columns</p>\n",
       "</div>"
      ],
      "text/plain": [
       "   num_floors  num_bed_rooms  squared_meter_area  length_meter  width_meter  \\\n",
       "0         4.0            4.0                40.0          10.0          4.0   \n",
       "1         5.0            4.0                52.0          12.0          4.2   \n",
       "2         5.0            5.0                90.0          18.0          5.0   \n",
       "3         4.0            3.0                32.0           6.6          4.5   \n",
       "4         3.0            2.0                42.0          11.0          4.0   \n",
       "\n",
       "  price_in_million_per_square_meter  housing_type_Nhà biệt thự  \\\n",
       "0                              65.0                      False   \n",
       "1                             93.27                      False   \n",
       "2                            108.89                      False   \n",
       "3                             60.94                      False   \n",
       "4                             29.76                      False   \n",
       "\n",
       "   housing_type_Nhà mặt phố, mặt tiền  housing_type_Nhà ngõ, hẻm  \\\n",
       "0                               False                       True   \n",
       "1                               False                       True   \n",
       "2                                True                      False   \n",
       "3                               False                       True   \n",
       "4                               False                       True   \n",
       "\n",
       "   housing_type_Nhà phố liền kề  ...  ward_Đại Mỗ  ward_Định Công  \\\n",
       "0                         False  ...        False           False   \n",
       "1                         False  ...        False           False   \n",
       "2                         False  ...        False           False   \n",
       "3                         False  ...        False           False   \n",
       "4                         False  ...        False           False   \n",
       "\n",
       "   ward_Đống Mác  ward_Đồng Mai  ward_Đồng Nhân  ward_Đồng Tâm  \\\n",
       "0          False          False           False          False   \n",
       "1          False          False           False          False   \n",
       "2          False          False           False          False   \n",
       "3          False          False           False          False   \n",
       "4          False          False           False          False   \n",
       "\n",
       "   ward_Đồng Xuân  ward_Đội Cấn  ward_Đức Giang  ward_Đức Thắng  \n",
       "0           False         False           False           False  \n",
       "1           False         False           False           False  \n",
       "2           False         False           False           False  \n",
       "3           False         False           False           False  \n",
       "4           False         False           False           False  \n",
       "\n",
       "[5 rows x 281 columns]"
      ]
     },
     "execution_count": 30,
     "metadata": {},
     "output_type": "execute_result"
    }
   ],
   "source": [
    "# Create dummies for categorical columns\n",
    "#tạo biến gỉa cho cột type of housing\n",
    "dummy_type_of_housing = pd.get_dummies(df_renamed.type_of_housing, prefix=\"housing_type\")\n",
    "# tạo biến giả cho cột legal_paper\n",
    "dummy_legal_paper = pd.get_dummies(df_renamed.legal_paper, prefix=\"legal_paper\")\n",
    "dummy_district = pd.get_dummies(df_renamed.district, prefix=\"district\")\n",
    "dummy_ward = pd.get_dummies(df_renamed.ward, prefix=\"ward\")\n",
    "#kết hợp các biến giả với dataframe\n",
    "df_cleaned = pd.concat([df_renamed, dummy_type_of_housing, dummy_legal_paper, dummy_district, dummy_ward], axis=1)\n",
    "#loại bỏ các cột không cần thiết\n",
    "df_cleaned = df_cleaned.drop(['index', 'date', 'address', 'district', 'ward', 'type_of_housing', 'legal_paper'], axis = 1)\n",
    "df_cleaned.head()"
   ]
  },
  {
   "cell_type": "code",
   "execution_count": 13,
   "metadata": {},
   "outputs": [
    {
     "name": "stdout",
     "output_type": "stream",
     "text": [
      "The final length of the dataset is 7328 rows.\n"
     ]
    }
   ],
   "source": [
    "def remove_outlier_IQR(df, series):\n",
    "    Q1=df[series].quantile(0.25)\n",
    "    Q3=df[series].quantile(0.75)\n",
    "    IQR=Q3-Q1\n",
    "    df_final=df[~((df[series]<(Q1-1.5*IQR)) | (df[series]>(Q3+1.5*IQR)))]\n",
    "    return df_final\n",
    "\n",
    "removed_outliers = df_cleaned\n",
    "columns_to_remove_outliers = ['num_floors', 'num_bed_rooms', 'squared_meter_area', 'length_meter',\n",
    "                              'width_meter', 'price_in_million_per_square_meter']\n",
    "for column in columns_to_remove_outliers:\n",
    "    removed_outliers = remove_outlier_IQR(removed_outliers, column)\n",
    "    \n",
    "print(\"The final length of the dataset is\", str(len(removed_outliers)), \"rows.\")"
   ]
  },
  {
   "cell_type": "code",
   "execution_count": 23,
   "metadata": {},
   "outputs": [
    {
     "name": "stderr",
     "output_type": "stream",
     "text": [
      "C:\\Users\\ducan\\AppData\\Local\\Temp\\ipykernel_25488\\1172724163.py:19: SettingWithCopyWarning: \n",
      "A value is trying to be set on a copy of a slice from a DataFrame.\n",
      "Try using .loc[row_indexer,col_indexer] = value instead\n",
      "\n",
      "See the caveats in the documentation: https://pandas.pydata.org/pandas-docs/stable/user_guide/indexing.html#returning-a-view-versus-a-copy\n",
      "  X_scaled[to_be_scaled]=PredictorScalerFit.transform(X_scaled[to_be_scaled])\n"
     ]
    },
    {
     "name": "stdout",
     "output_type": "stream",
     "text": [
      "All train and test sets have correct dimensions.\n"
     ]
    }
   ],
   "source": [
    "# Loại bỏ các giá trị ngoại lệ khỏi dữ liệu nhà\n",
    "housing = removed_outliers\n",
    "\n",
    "# Tách biến dự đoán và biến phản ứng (giá) \n",
    "X = housing.loc[:, housing.columns != 'price_in_million_per_square_meter']\n",
    "y = housing[['price_in_million_per_square_meter']]\n",
    "to_be_scaled = ['num_floors', 'num_bed_rooms', 'squared_meter_area', 'length_meter', 'width_meter']\n",
    "\n",
    "# Khởi tạo bộ điều chuẩn\n",
    "PredictorScaler = StandardScaler()\n",
    "TargetVarScaler = StandardScaler()\n",
    "\n",
    "X_scaled = X\n",
    "y_scaled = y\n",
    "\n",
    "# Lưu trữ đối tượng fit để tham chiếu và đảo ngược quá trình chuẩn hóa sau này\n",
    "PredictorScalerFit = PredictorScaler.fit(X_scaled[to_be_scaled])\n",
    "TargetVarScalerFit = TargetVarScaler.fit(y_scaled)\n",
    "\n",
    "# Tạo giá trị đã được chuẩn hóa của X và y\n",
    "X_scaled[to_be_scaled] = PredictorScalerFit.transform(X_scaled[to_be_scaled])\n",
    "y_scaled = TargetVarScalerFit.transform(y)\n",
    "\n",
    "X_array = np.array(X_scaled.values).astype(\"float32\")\n",
    "y_array = np.array(y_scaled).astype(\"float32\")\n",
    "\n",
    "# Chia dữ liệu thành tập huấn luyện và tập kiểm tra\n",
    "X_train, X_test, y_train, y_test = train_test_split(X_array, y_array, test_size=0.2, random_state=2032)\n",
    "\n",
    "# Kiểm tra tính đúng đắn của kích thước các tập huấn luyện và kiểm tra\n",
    "if X_train.shape[0] == y_train.shape[0] and X_train.shape[1] == X_test.shape[1] and X_test.shape[0] == y_test.shape[0] and y_train.shape[1] == y_test.shape[1]:\n",
    "    print(\"Tất cả các tập huấn luyện và kiểm tra có kích thước đúng.\")\n"
   ]
  },
  {
   "cell_type": "code",
   "execution_count": 24,
   "metadata": {},
   "outputs": [],
   "source": [
    "#  các tham số ngẫu nhiên cho mô hình RandomForest\n",
    "RF_random_grid = {'n_estimators': [int(x) for x in np.linspace(start = 100, stop = 1000, num = 10)],\n",
    "               'max_features': ['auto', 'sqrt', 'log2'],\n",
    "               'max_depth': [int(x) for x in np.linspace(10, 100, num = 10)],\n",
    "               'min_samples_split': [2, 5, 10],\n",
    "               'min_samples_leaf': [1, 2, 4],\n",
    "               'bootstrap': [True, False]}"
   ]
  },
  {
   "cell_type": "code",
   "execution_count": 25,
   "metadata": {},
   "outputs": [
    {
     "name": "stderr",
     "output_type": "stream",
     "text": [
      "C:\\Users\\ducan\\AppData\\Local\\Packages\\PythonSoftwareFoundation.Python.3.11_qbz5n2kfra8p0\\LocalCache\\local-packages\\Python311\\site-packages\\sklearn\\model_selection\\_validation.py:425: FitFailedWarning: \n",
      "135 fits failed out of a total of 500.\n",
      "The score on these train-test partitions for these parameters will be set to nan.\n",
      "If these failures are not expected, you can try to debug them by setting error_score='raise'.\n",
      "\n",
      "Below are more details about the failures:\n",
      "--------------------------------------------------------------------------------\n",
      "47 fits failed with the following error:\n",
      "Traceback (most recent call last):\n",
      "  File \"C:\\Users\\ducan\\AppData\\Local\\Packages\\PythonSoftwareFoundation.Python.3.11_qbz5n2kfra8p0\\LocalCache\\local-packages\\Python311\\site-packages\\sklearn\\model_selection\\_validation.py\", line 729, in _fit_and_score\n",
      "    estimator.fit(X_train, y_train, **fit_params)\n",
      "  File \"C:\\Users\\ducan\\AppData\\Local\\Packages\\PythonSoftwareFoundation.Python.3.11_qbz5n2kfra8p0\\LocalCache\\local-packages\\Python311\\site-packages\\sklearn\\base.py\", line 1145, in wrapper\n",
      "    estimator._validate_params()\n",
      "  File \"C:\\Users\\ducan\\AppData\\Local\\Packages\\PythonSoftwareFoundation.Python.3.11_qbz5n2kfra8p0\\LocalCache\\local-packages\\Python311\\site-packages\\sklearn\\base.py\", line 638, in _validate_params\n",
      "    validate_parameter_constraints(\n",
      "  File \"C:\\Users\\ducan\\AppData\\Local\\Packages\\PythonSoftwareFoundation.Python.3.11_qbz5n2kfra8p0\\LocalCache\\local-packages\\Python311\\site-packages\\sklearn\\utils\\_param_validation.py\", line 96, in validate_parameter_constraints\n",
      "    raise InvalidParameterError(\n",
      "sklearn.utils._param_validation.InvalidParameterError: The 'max_features' parameter of RandomForestRegressor must be an int in the range [1, inf), a float in the range (0.0, 1.0], a str among {'sqrt', 'log2'} or None. Got 'auto' instead.\n",
      "\n",
      "--------------------------------------------------------------------------------\n",
      "88 fits failed with the following error:\n",
      "Traceback (most recent call last):\n",
      "  File \"C:\\Users\\ducan\\AppData\\Local\\Packages\\PythonSoftwareFoundation.Python.3.11_qbz5n2kfra8p0\\LocalCache\\local-packages\\Python311\\site-packages\\sklearn\\model_selection\\_validation.py\", line 729, in _fit_and_score\n",
      "    estimator.fit(X_train, y_train, **fit_params)\n",
      "  File \"C:\\Users\\ducan\\AppData\\Local\\Packages\\PythonSoftwareFoundation.Python.3.11_qbz5n2kfra8p0\\LocalCache\\local-packages\\Python311\\site-packages\\sklearn\\base.py\", line 1145, in wrapper\n",
      "    estimator._validate_params()\n",
      "  File \"C:\\Users\\ducan\\AppData\\Local\\Packages\\PythonSoftwareFoundation.Python.3.11_qbz5n2kfra8p0\\LocalCache\\local-packages\\Python311\\site-packages\\sklearn\\base.py\", line 638, in _validate_params\n",
      "    validate_parameter_constraints(\n",
      "  File \"C:\\Users\\ducan\\AppData\\Local\\Packages\\PythonSoftwareFoundation.Python.3.11_qbz5n2kfra8p0\\LocalCache\\local-packages\\Python311\\site-packages\\sklearn\\utils\\_param_validation.py\", line 96, in validate_parameter_constraints\n",
      "    raise InvalidParameterError(\n",
      "sklearn.utils._param_validation.InvalidParameterError: The 'max_features' parameter of RandomForestRegressor must be an int in the range [1, inf), a float in the range (0.0, 1.0], a str among {'log2', 'sqrt'} or None. Got 'auto' instead.\n",
      "\n",
      "  warnings.warn(some_fits_failed_message, FitFailedWarning)\n",
      "C:\\Users\\ducan\\AppData\\Local\\Packages\\PythonSoftwareFoundation.Python.3.11_qbz5n2kfra8p0\\LocalCache\\local-packages\\Python311\\site-packages\\sklearn\\model_selection\\_search.py:979: UserWarning: One or more of the test scores are non-finite: [       nan        nan 0.44328667        nan        nan 0.44969327\n",
      " 0.45040223 0.30378816        nan        nan        nan 0.4459295\n",
      "        nan 0.44697356        nan 0.4070505  0.40678356 0.30360599\n",
      " 0.44728527 0.4185633  0.44517126 0.43976489        nan 0.38464776\n",
      " 0.42388972 0.4470301  0.30889531 0.38171199        nan 0.40443694\n",
      " 0.36622247 0.41293991        nan 0.38464781        nan 0.23379252\n",
      " 0.23898646 0.42439935 0.34790307 0.30267569 0.40260172 0.4221571\n",
      " 0.38387372        nan 0.42343067 0.42015016        nan 0.39051895\n",
      " 0.39948792 0.41785104 0.24074937 0.42311031 0.35442662 0.44703268\n",
      " 0.41854725 0.44880489 0.45097775        nan        nan 0.22520141\n",
      " 0.32770185 0.42760653        nan 0.4184681  0.38513219 0.4375544\n",
      " 0.45315758        nan 0.40381834 0.38123571 0.45251476 0.43624454\n",
      " 0.38587218 0.40938108 0.38190603 0.3882357  0.38256309 0.22429599\n",
      "        nan        nan 0.4513996  0.40389194        nan        nan\n",
      " 0.44701258 0.40333847        nan        nan        nan 0.38532855\n",
      " 0.32690144        nan 0.3820418  0.24419795 0.23767063 0.42698218\n",
      " 0.40415979 0.38431604 0.44665707 0.44965764]\n",
      "  warnings.warn(\n"
     ]
    },
    {
     "data": {
      "text/plain": [
       "{'n_estimators': 700,\n",
       " 'min_samples_split': 5,\n",
       " 'min_samples_leaf': 1,\n",
       " 'max_features': 'log2',\n",
       " 'max_depth': 90,\n",
       " 'bootstrap': True}"
      ]
     },
     "execution_count": 25,
     "metadata": {},
     "output_type": "execute_result"
    }
   ],
   "source": [
    "#Tắt thông báo và cảnh báo của TensorFlow:\n",
    "os.environ['TF_CPP_MIN_LOG_LEVEL'] = '3'\n",
    "os.environ[\"KMP_SETTINGS\"] = \"false\"\n",
    "\n",
    "#Tạo mô hình cơ bản RandomForestRegressor và thực hiện tìm kiếm ngẫu nhiên:\n",
    "RF_regressor = RandomForestRegressor()\n",
    "RF_random_search = RandomizedSearchCV(estimator=RF_regressor, param_distributions=RF_random_grid, n_iter=100, cv=5, \n",
    "                                      verbose=0, random_state=2022, n_jobs = -1).fit(X_train, np.ravel(y_train))\n",
    "RF_best_params = RF_random_search.best_params_\n",
    "RF_best_params"
   ]
  },
  {
   "cell_type": "code",
   "execution_count": 27,
   "metadata": {},
   "outputs": [],
   "source": [
    "RF_param_grid = {'n_estimators': [RF_best_params['n_estimators']-100, RF_best_params['n_estimators'], RF_best_params['n_estimators']+100],\n",
    "               'max_features': ['sqrt', 'log2'],\n",
    "               'max_depth': [RF_best_params['max_depth'] - 10, RF_best_params['max_depth'], RF_best_params['max_depth']+10],\n",
    "               'min_samples_split': [5, 10],\n",
    "               'min_samples_leaf': [1, 2],\n",
    "               'bootstrap': [True, False]}"
   ]
  },
  {
   "cell_type": "code",
   "execution_count": 28,
   "metadata": {},
   "outputs": [
    {
     "data": {
      "text/plain": [
       "{'bootstrap': False,\n",
       " 'max_depth': 80,\n",
       " 'max_features': 'log2',\n",
       " 'min_samples_leaf': 1,\n",
       " 'min_samples_split': 10,\n",
       " 'n_estimators': 800}"
      ]
     },
     "execution_count": 28,
     "metadata": {},
     "output_type": "execute_result"
    }
   ],
   "source": [
    "# Turn off TensorFlow messages and warnings\n",
    "os.environ['TF_CPP_MIN_LOG_LEVEL'] = '3'\n",
    "os.environ[\"KMP_SETTINGS\"] = \"false\"\n",
    "\n",
    "# Create another base RF model and fit the grid search\n",
    "RF_regressor_2 = RandomForestRegressor()\n",
    "RF_grid_search = GridSearchCV(estimator=RF_regressor_2, param_grid=RF_param_grid, \n",
    "                              cv=3, n_jobs=-1, verbose=0).fit(X_train, np.ravel(y_train))\n",
    "\n",
    "# Showing the best parameters\n",
    "RF_grid_search.best_params_"
   ]
  },
  {
   "cell_type": "markdown",
   "metadata": {},
   "source": [
    "\n",
    "Training the RF model with the best parameters"
   ]
  },
  {
   "cell_type": "code",
   "execution_count": 26,
   "metadata": {},
   "outputs": [
    {
     "name": "stdout",
     "output_type": "stream",
     "text": [
      "   Actual_Price  Predicted_Price_RF\n",
      "0     77.139999           73.851613\n",
      "1    121.949997          120.051339\n",
      "2     66.669998           74.834780\n",
      "3     80.559998           90.667676\n",
      "4    133.330002          109.351878\n"
     ]
    }
   ],
   "source": [
    "# Tạo dự đoán trên dữ liệu kiểm tra\n",
    "RF_predictions = RF.predict(X_test)\n",
    "\n",
    "# Chuyển đổi dự đoán thành mảng 2D nếu cần thiết\n",
    "RF_predictions = RF_predictions.reshape(-1, 1)\n",
    "\n",
    "# Đưa dữ liệu giá dự đoán về tỷ lệ giá ban đầu\n",
    "RF_predictions = TargetVarScalerFit.inverse_transform(RF_predictions)\n",
    "\n",
    "#  giá thực tế để so sánh\n",
    "actual_prices = TargetVarScalerFit.inverse_transform(y_test)  # Thay thế y_test bằng biến mục tiêu thực tees\n",
    "\n",
    "# Tạo DataFrame để hiển thị giá thực và giá dự đoán\n",
    "result_df = pd.DataFrame({\n",
    "    'Giá_Thực': actual_prices.flatten(),\n",
    "    'Giá_Dự_Đoán_RF': RF_predictions.flatten()\n",
    "})\n",
    "\n",
    "# Hiển thị kết quả\n",
    "print(result_df.head())\n"
   ]
  },
  {
   "cell_type": "code",
   "execution_count": 1,
   "metadata": {},
   "outputs": [
    {
     "ename": "NameError",
     "evalue": "name 'actual_prices' is not defined",
     "output_type": "error",
     "traceback": [
      "\u001b[1;31m---------------------------------------------------------------------------\u001b[0m",
      "\u001b[1;31mNameError\u001b[0m                                 Traceback (most recent call last)",
      "Cell \u001b[1;32mIn[1], line 6\u001b[0m\n\u001b[0;32m      4\u001b[0m     \u001b[38;5;28;01mreturn\u001b[39;00m(\u001b[38;5;241m100\u001b[39m\u001b[38;5;241m-\u001b[39mMAPE)\n\u001b[0;32m      5\u001b[0m \u001b[38;5;66;03m# Tính độ chính xác của mô hình RF\u001b[39;00m\n\u001b[1;32m----> 6\u001b[0m accuracy \u001b[38;5;241m=\u001b[39m Accuracy_Score(\u001b[43mactual_prices\u001b[49m, RF_predictions)\n\u001b[0;32m      7\u001b[0m \u001b[38;5;28mprint\u001b[39m(\u001b[38;5;124mf\u001b[39m\u001b[38;5;124m\"\u001b[39m\u001b[38;5;124mAccuracy for the RF model is: \u001b[39m\u001b[38;5;132;01m{\u001b[39;00maccuracy\u001b[38;5;132;01m:\u001b[39;00m\u001b[38;5;124m.2f\u001b[39m\u001b[38;5;132;01m}\u001b[39;00m\u001b[38;5;124m%\u001b[39m\u001b[38;5;124m\"\u001b[39m)\n",
      "\u001b[1;31mNameError\u001b[0m: name 'actual_prices' is not defined"
     ]
    }
   ],
   "source": [
    "# Định nghĩa hàm tính độ chính xác dựa trên MAPE\n",
    "def Accuracy_Score(orig, pred):\n",
    "    MAPE = np.mean(100 * (np.abs(orig - pred) / orig))\n",
    "    return(100-MAPE)\n",
    "# Tính độ chính xác của mô hình RF\n",
    "accuracy = Accuracy_Score(actual_prices, RF_predictions)\n",
    "print(f\"Accuracy for the RF model is: {accuracy:.2f}%\")"
   ]
  }
 ],
 "metadata": {
  "kernelspec": {
   "display_name": "Python 3",
   "language": "python",
   "name": "python3"
  },
  "language_info": {
   "codemirror_mode": {
    "name": "ipython",
    "version": 3
   },
   "file_extension": ".py",
   "mimetype": "text/x-python",
   "name": "python",
   "nbconvert_exporter": "python",
   "pygments_lexer": "ipython3",
   "version": "3.11.9"
  }
 },
 "nbformat": 4,
 "nbformat_minor": 2
}
